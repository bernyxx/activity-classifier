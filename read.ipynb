{
 "cells": [
  {
   "cell_type": "code",
   "execution_count": 45,
   "metadata": {},
   "outputs": [],
   "source": [
    "import pandas as pd\n",
    "import matplotlib.pyplot as plt\n",
    "import numpy as np\n",
    "import tensorflow as tf\n",
    "import keras as keras\n",
    "from keras.models import Sequential\n",
    "from keras.layers import *\n",
    "from sklearn.model_selection import train_test_split\n",
    "from sklearn.preprocessing import StandardScaler, MinMaxScaler\n",
    "from sklearn.preprocessing import OneHotEncoder\n",
    "from os import listdir\n",
    "import math"
   ]
  },
  {
   "attachments": {},
   "cell_type": "markdown",
   "metadata": {},
   "source": [
    "Read every dataset in the folder"
   ]
  },
  {
   "cell_type": "code",
   "execution_count": 46,
   "metadata": {},
   "outputs": [
    {
     "name": "stdout",
     "output_type": "stream",
     "text": [
      "Dimensione dataset running_16_02_2023_15_12_04.csv  (130, 4)\n",
      "Dimensione dataset still_16_02_2023_15_09_23.csv  (57, 4)\n",
      "Dimensione dataset walking_16_02_2023_15_11_18.csv  (158, 4)\n",
      "(87, 4)\n",
      "(43, 4)\n",
      "(38, 4)\n",
      "(19, 4)\n",
      "(106, 4)\n",
      "(52, 4)\n",
      "Dimensione merged dataset train  (231, 4)\n",
      "Dimensione merged dataset test  (114, 4)\n"
     ]
    }
   ],
   "source": [
    "files = listdir('datasets')\n",
    "\n",
    "datasets = []\n",
    "datasets_train = []\n",
    "datasets_test = []\n",
    "\n",
    "def add_activity(name, df):\n",
    "    if 'still' in name:\n",
    "        df['activity'] = 'still'\n",
    "    elif 'walking' in name:\n",
    "        df['activity'] = 'walking'\n",
    "    else:\n",
    "        df['activity'] = 'running'\n",
    "    return df\n",
    "\n",
    "def split_data(df):\n",
    "    num_rows = df.shape[0]\n",
    "    num_test = math.floor(num_rows / 3)\n",
    "    num_train = num_rows - num_test\n",
    "\n",
    "    df_train = df.iloc[:num_train, :]\n",
    "    df_test = df.iloc[num_train:, :]\n",
    "\n",
    "    datasets_train.append(df_train)\n",
    "    datasets_test.append(df_test)\n",
    "\n",
    "    print(df_train.shape)\n",
    "    print(df_test.shape)\n",
    "\n",
    "\n",
    "for file in files:\n",
    "    df = add_activity(file, pd.read_csv(f'datasets/{file}'))\n",
    "    datasets.append(df)\n",
    "    print(\"Dimensione dataset {} \".format(file), df.shape)\n",
    "\n",
    "for df in datasets:\n",
    "    split_data(df)\n",
    "\n",
    "df_train = pd.concat(datasets_train, ignore_index=True)\n",
    "df_test = pd.concat(datasets_test, ignore_index=True)\n",
    "\n",
    "print(\"Dimensione merged dataset train \", df_train.shape)\n",
    "print(\"Dimensione merged dataset test \", df_test.shape)\n",
    "\n"
   ]
  },
  {
   "attachments": {},
   "cell_type": "markdown",
   "metadata": {},
   "source": [
    "Normalizzazione dei dati"
   ]
  },
  {
   "cell_type": "code",
   "execution_count": 47,
   "metadata": {},
   "outputs": [
    {
     "data": {
      "text/html": [
       "<div>\n",
       "<style scoped>\n",
       "    .dataframe tbody tr th:only-of-type {\n",
       "        vertical-align: middle;\n",
       "    }\n",
       "\n",
       "    .dataframe tbody tr th {\n",
       "        vertical-align: top;\n",
       "    }\n",
       "\n",
       "    .dataframe thead th {\n",
       "        text-align: right;\n",
       "    }\n",
       "</style>\n",
       "<table border=\"1\" class=\"dataframe\">\n",
       "  <thead>\n",
       "    <tr style=\"text-align: right;\">\n",
       "      <th></th>\n",
       "      <th>xa</th>\n",
       "      <th>ya</th>\n",
       "      <th>za</th>\n",
       "      <th>activity</th>\n",
       "    </tr>\n",
       "  </thead>\n",
       "  <tbody>\n",
       "    <tr>\n",
       "      <th>0</th>\n",
       "      <td>0.559771</td>\n",
       "      <td>0.579491</td>\n",
       "      <td>0.620094</td>\n",
       "      <td>running</td>\n",
       "    </tr>\n",
       "    <tr>\n",
       "      <th>1</th>\n",
       "      <td>0.577511</td>\n",
       "      <td>0.452969</td>\n",
       "      <td>0.797305</td>\n",
       "      <td>running</td>\n",
       "    </tr>\n",
       "    <tr>\n",
       "      <th>2</th>\n",
       "      <td>0.278930</td>\n",
       "      <td>0.677610</td>\n",
       "      <td>0.724956</td>\n",
       "      <td>running</td>\n",
       "    </tr>\n",
       "    <tr>\n",
       "      <th>3</th>\n",
       "      <td>0.200055</td>\n",
       "      <td>0.753965</td>\n",
       "      <td>0.755126</td>\n",
       "      <td>running</td>\n",
       "    </tr>\n",
       "    <tr>\n",
       "      <th>4</th>\n",
       "      <td>0.697052</td>\n",
       "      <td>0.390631</td>\n",
       "      <td>0.651142</td>\n",
       "      <td>running</td>\n",
       "    </tr>\n",
       "    <tr>\n",
       "      <th>...</th>\n",
       "      <td>...</td>\n",
       "      <td>...</td>\n",
       "      <td>...</td>\n",
       "      <td>...</td>\n",
       "    </tr>\n",
       "    <tr>\n",
       "      <th>226</th>\n",
       "      <td>0.613537</td>\n",
       "      <td>0.829583</td>\n",
       "      <td>0.548916</td>\n",
       "      <td>walking</td>\n",
       "    </tr>\n",
       "    <tr>\n",
       "      <th>227</th>\n",
       "      <td>0.614083</td>\n",
       "      <td>0.847658</td>\n",
       "      <td>0.512595</td>\n",
       "      <td>walking</td>\n",
       "    </tr>\n",
       "    <tr>\n",
       "      <th>228</th>\n",
       "      <td>0.627456</td>\n",
       "      <td>0.808558</td>\n",
       "      <td>0.456649</td>\n",
       "      <td>walking</td>\n",
       "    </tr>\n",
       "    <tr>\n",
       "      <th>229</th>\n",
       "      <td>0.603166</td>\n",
       "      <td>0.806345</td>\n",
       "      <td>0.453134</td>\n",
       "      <td>walking</td>\n",
       "    </tr>\n",
       "    <tr>\n",
       "      <th>230</th>\n",
       "      <td>0.620906</td>\n",
       "      <td>0.797123</td>\n",
       "      <td>0.383421</td>\n",
       "      <td>walking</td>\n",
       "    </tr>\n",
       "  </tbody>\n",
       "</table>\n",
       "<p>231 rows × 4 columns</p>\n",
       "</div>"
      ],
      "text/plain": [
       "           xa        ya        za activity\n",
       "0    0.559771  0.579491  0.620094  running\n",
       "1    0.577511  0.452969  0.797305  running\n",
       "2    0.278930  0.677610  0.724956  running\n",
       "3    0.200055  0.753965  0.755126  running\n",
       "4    0.697052  0.390631  0.651142  running\n",
       "..        ...       ...       ...      ...\n",
       "226  0.613537  0.829583  0.548916  walking\n",
       "227  0.614083  0.847658  0.512595  walking\n",
       "228  0.627456  0.808558  0.456649  walking\n",
       "229  0.603166  0.806345  0.453134  walking\n",
       "230  0.620906  0.797123  0.383421  walking\n",
       "\n",
       "[231 rows x 4 columns]"
      ]
     },
     "execution_count": 47,
     "metadata": {},
     "output_type": "execute_result"
    }
   ],
   "source": [
    "normalizer = MinMaxScaler()\n",
    "num_columns = df_train.shape[1]\n",
    "\n",
    "normalizer.fit(df_train.iloc[:, 0 : num_columns-1])\n",
    "\n",
    "def normalize_df(df):\n",
    "    \n",
    "    norm_df = df.copy()\n",
    "    norm_column = normalizer.transform(df.iloc[:, 0 : num_columns-1])\n",
    "    norm_df.iloc[:, 0 : num_columns-1] = norm_column\n",
    "\n",
    "    return norm_df\n",
    "\n",
    "norm_train_df = normalize_df(df_train)\n",
    "norm_test_df = normalize_df(df_test)\n",
    "\n",
    "\n",
    "# fig, ((ax1, ax2),( ax3, ax4), (ax5, ax6)) = plt.subplots(3,2)\n",
    "# ax1.plot(np.arange(0, len(df_train.xa)), df_train.xa)\n",
    "# ax3.plot(np.arange(0, len(df_train.ya)), df_train.ya)\n",
    "# ax5.plot(np.arange(0, len(df_train.za)), df_train.za)\n",
    "\n",
    "# ax2.plot(np.arange(0, len(norm_train_df.xa)), norm_train_df.xa)\n",
    "# ax4.plot(np.arange(0, len(norm_train_df.ya)), norm_train_df.ya)\n",
    "# ax6.plot(np.arange(0, len(norm_train_df.za)), norm_train_df.za)\n",
    "\n",
    "# fig, ((ax1, ax2),( ax3, ax4), (ax5, ax6)) = plt.subplots(3,2)\n",
    "# ax1.plot(np.arange(0, len(df_test.xa)), df_test.xa)\n",
    "# ax3.plot(np.arange(0, len(df_test.ya)), df_test.ya)\n",
    "# ax5.plot(np.arange(0, len(df_test.za)), df_test.za)\n",
    "\n",
    "# ax2.plot(np.arange(0, len(norm_test_df.xa)), norm_test_df.xa)\n",
    "# ax4.plot(np.arange(0, len(norm_test_df.ya)), norm_test_df.ya)\n",
    "# ax6.plot(np.arange(0, len(norm_test_df.za)), norm_test_df.za)\n",
    "\n",
    "norm_train_df"
   ]
  },
  {
   "attachments": {},
   "cell_type": "markdown",
   "metadata": {},
   "source": [
    "Resize datasets"
   ]
  },
  {
   "cell_type": "code",
   "execution_count": 48,
   "metadata": {},
   "outputs": [
    {
     "name": "stdout",
     "output_type": "stream",
     "text": [
      "(231, 3)\n",
      "(114, 3)\n"
     ]
    }
   ],
   "source": [
    "def reshape_data(df, time_steps, step):\n",
    "    Xs = []\n",
    "    ys = []\n",
    "\n",
    "    num_cols = df.shape[1]\n",
    "\n",
    "    X = df.iloc[:, :num_cols - 1]\n",
    "    y = df.iloc[:, num_cols - 1:]\n",
    "\n",
    "    print(X.shape)\n",
    "\n",
    "    for i in range(0, len(X) - time_steps, step):\n",
    "        values = X.iloc[i : (i+time_steps)].values\n",
    "        labels = y.iloc[i : i + time_steps]\n",
    "        Xs.append(values)\n",
    "        ys.append(labels.mode()['activity'][0])\n",
    "    \n",
    "    return np.array(Xs), np.array(ys).reshape(-1, 1)\n",
    "\n",
    "\n",
    "X_train , y_train = reshape_data(norm_train_df, 10, 10)\n",
    "X_test , y_test = reshape_data(norm_test_df, 10, 10)\n"
   ]
  },
  {
   "attachments": {},
   "cell_type": "markdown",
   "metadata": {},
   "source": [
    "OneHotEncoder per la y"
   ]
  },
  {
   "cell_type": "code",
   "execution_count": 49,
   "metadata": {},
   "outputs": [
    {
     "name": "stdout",
     "output_type": "stream",
     "text": [
      "(23, 3)\n"
     ]
    }
   ],
   "source": [
    "def encode_y(y):\n",
    "    encoder = OneHotEncoder(sparse_output=False)\n",
    "\n",
    "    encoded_y = encoder.fit_transform(y)\n",
    "    return encoded_y\n",
    "\n",
    "encoded_y_train = encode_y(y_train)\n",
    "encoded_y_test = encode_y(y_test)\n",
    "\n",
    "print(encoded_y_train.shape)\n",
    "    "
   ]
  },
  {
   "cell_type": "code",
   "execution_count": 50,
   "metadata": {},
   "outputs": [
    {
     "name": "stdout",
     "output_type": "stream",
     "text": [
      "(23, 10, 3)\n",
      "(11, 10, 3)\n",
      "(23, 3)\n",
      "(11, 3)\n"
     ]
    },
    {
     "data": {
      "text/plain": [
       "array([[1., 0., 0.],\n",
       "       [1., 0., 0.],\n",
       "       [1., 0., 0.],\n",
       "       [1., 0., 0.],\n",
       "       [1., 0., 0.],\n",
       "       [1., 0., 0.],\n",
       "       [1., 0., 0.],\n",
       "       [1., 0., 0.],\n",
       "       [1., 0., 0.],\n",
       "       [0., 1., 0.],\n",
       "       [0., 1., 0.],\n",
       "       [0., 1., 0.],\n",
       "       [0., 1., 0.],\n",
       "       [0., 0., 1.],\n",
       "       [0., 0., 1.],\n",
       "       [0., 0., 1.],\n",
       "       [0., 0., 1.],\n",
       "       [0., 0., 1.],\n",
       "       [0., 0., 1.],\n",
       "       [0., 0., 1.],\n",
       "       [0., 0., 1.],\n",
       "       [0., 0., 1.],\n",
       "       [0., 0., 1.]])"
      ]
     },
     "execution_count": 50,
     "metadata": {},
     "output_type": "execute_result"
    }
   ],
   "source": [
    "# stampa delle dimensioni\n",
    "\n",
    "print(X_train.shape)\n",
    "print(X_test.shape)\n",
    "\n",
    "print(encoded_y_train.shape)\n",
    "print(encoded_y_test.shape)\n",
    "encoded_y_train"
   ]
  },
  {
   "attachments": {},
   "cell_type": "markdown",
   "metadata": {},
   "source": [
    "# Modello"
   ]
  },
  {
   "cell_type": "code",
   "execution_count": 58,
   "metadata": {},
   "outputs": [
    {
     "name": "stdout",
     "output_type": "stream",
     "text": [
      "Model: \"sequential_6\"\n",
      "_________________________________________________________________\n",
      " Layer (type)                Output Shape              Param #   \n",
      "=================================================================\n",
      " lstm_1 (LSTM)               (None, 128)               67584     \n",
      "                                                                 \n",
      " dropout_18 (Dropout)        (None, 128)               0         \n",
      "                                                                 \n",
      " batch_normalization_18 (Bat  (None, 128)              512       \n",
      " chNormalization)                                                \n",
      "                                                                 \n",
      " dense_23 (Dense)            (None, 256)               33024     \n",
      "                                                                 \n",
      " dropout_19 (Dropout)        (None, 256)               0         \n",
      "                                                                 \n",
      " batch_normalization_19 (Bat  (None, 256)              1024      \n",
      " chNormalization)                                                \n",
      "                                                                 \n",
      " dense_24 (Dense)            (None, 256)               65792     \n",
      "                                                                 \n",
      " dropout_20 (Dropout)        (None, 256)               0         \n",
      "                                                                 \n",
      " batch_normalization_20 (Bat  (None, 256)              1024      \n",
      " chNormalization)                                                \n",
      "                                                                 \n",
      " flatten_6 (Flatten)         (None, 256)               0         \n",
      "                                                                 \n",
      " dense_25 (Dense)            (None, 3)                 771       \n",
      "                                                                 \n",
      "=================================================================\n",
      "Total params: 169,731\n",
      "Trainable params: 168,451\n",
      "Non-trainable params: 1,280\n",
      "_________________________________________________________________\n",
      "None\n"
     ]
    }
   ],
   "source": [
    "model = Sequential()\n",
    "# model.add(Dense(256, input_shape=[X_train.shape[1], X_train.shape[2]], activation='relu'))\n",
    "model.add(LSTM(units=128, input_shape=[X_train.shape[1], X_train.shape[2]]))\n",
    "model.add(Dropout(rate=0.3))\n",
    "model.add(BatchNormalization())\n",
    "model.add(Dense(256, activation = 'relu'))\n",
    "model.add(Dropout(rate=0.3))\n",
    "model.add(BatchNormalization())\n",
    "model.add(Dense(256, activation = 'relu'))\n",
    "model.add(Dropout(rate=0.3))\n",
    "model.add(BatchNormalization())\n",
    "model.add(Flatten())\n",
    "model.add(Dense(encoded_y_train.shape[1], activation = 'softmax'))\n",
    "print(model.summary())\n"
   ]
  },
  {
   "attachments": {},
   "cell_type": "markdown",
   "metadata": {},
   "source": [
    "Modello - ottimizzatore e funzione di perdita"
   ]
  },
  {
   "cell_type": "code",
   "execution_count": 59,
   "metadata": {},
   "outputs": [],
   "source": [
    "model.compile(\n",
    "    optimizer='adam',\n",
    "    loss='categorical_crossentropy',\n",
    "    metrics=['accuracy'],\n",
    ")"
   ]
  },
  {
   "attachments": {},
   "cell_type": "markdown",
   "metadata": {},
   "source": [
    "Early stopping per evitare overfitting"
   ]
  },
  {
   "cell_type": "code",
   "execution_count": 60,
   "metadata": {},
   "outputs": [],
   "source": [
    "early_stopping = keras.callbacks.EarlyStopping(\n",
    "    patience=10,\n",
    "    min_delta=0.001,\n",
    "    restore_best_weights=True,\n",
    ")"
   ]
  },
  {
   "cell_type": "code",
   "execution_count": 61,
   "metadata": {},
   "outputs": [
    {
     "name": "stdout",
     "output_type": "stream",
     "text": [
      "Epoch 1/20\n",
      "7/7 [==============================] - 3s 89ms/step - loss: 1.6691 - accuracy: 0.3500 - val_loss: 1.1827 - val_accuracy: 0.0000e+00\n",
      "Epoch 2/20\n",
      "7/7 [==============================] - 0s 30ms/step - loss: 1.3188 - accuracy: 0.5000 - val_loss: 1.1815 - val_accuracy: 0.0000e+00\n",
      "Epoch 3/20\n",
      "7/7 [==============================] - 0s 29ms/step - loss: 1.6693 - accuracy: 0.2500 - val_loss: 1.1620 - val_accuracy: 0.0000e+00\n",
      "Epoch 4/20\n",
      "7/7 [==============================] - 0s 31ms/step - loss: 1.3510 - accuracy: 0.3500 - val_loss: 1.1493 - val_accuracy: 0.0000e+00\n",
      "Epoch 5/20\n",
      "7/7 [==============================] - 0s 30ms/step - loss: 1.3573 - accuracy: 0.3500 - val_loss: 1.1366 - val_accuracy: 0.0000e+00\n",
      "Epoch 6/20\n",
      "7/7 [==============================] - 0s 30ms/step - loss: 1.4259 - accuracy: 0.5000 - val_loss: 1.1410 - val_accuracy: 0.0000e+00\n",
      "Epoch 7/20\n",
      "7/7 [==============================] - 0s 29ms/step - loss: 1.3308 - accuracy: 0.3500 - val_loss: 1.1543 - val_accuracy: 0.0000e+00\n",
      "Epoch 8/20\n",
      "7/7 [==============================] - 0s 30ms/step - loss: 1.3832 - accuracy: 0.5000 - val_loss: 1.1910 - val_accuracy: 0.0000e+00\n",
      "Epoch 9/20\n",
      "7/7 [==============================] - 0s 30ms/step - loss: 1.2647 - accuracy: 0.5000 - val_loss: 1.2001 - val_accuracy: 0.0000e+00\n",
      "Epoch 10/20\n",
      "7/7 [==============================] - 0s 31ms/step - loss: 1.2331 - accuracy: 0.3500 - val_loss: 1.2054 - val_accuracy: 0.0000e+00\n",
      "Epoch 11/20\n",
      "7/7 [==============================] - 0s 31ms/step - loss: 1.4136 - accuracy: 0.4500 - val_loss: 1.2137 - val_accuracy: 0.0000e+00\n",
      "Epoch 12/20\n",
      "7/7 [==============================] - 0s 30ms/step - loss: 1.3162 - accuracy: 0.3500 - val_loss: 1.2256 - val_accuracy: 0.0000e+00\n",
      "Epoch 13/20\n",
      "7/7 [==============================] - 0s 30ms/step - loss: 1.4340 - accuracy: 0.4000 - val_loss: 1.1957 - val_accuracy: 0.0000e+00\n",
      "Epoch 14/20\n",
      "7/7 [==============================] - 0s 30ms/step - loss: 1.5048 - accuracy: 0.3500 - val_loss: 1.1476 - val_accuracy: 0.0000e+00\n",
      "Epoch 15/20\n",
      "7/7 [==============================] - 0s 30ms/step - loss: 1.2821 - accuracy: 0.4000 - val_loss: 1.1245 - val_accuracy: 0.0000e+00\n",
      "Epoch 16/20\n",
      "7/7 [==============================] - 0s 30ms/step - loss: 1.3547 - accuracy: 0.3500 - val_loss: 1.0848 - val_accuracy: 0.0000e+00\n",
      "Epoch 17/20\n",
      "7/7 [==============================] - 0s 30ms/step - loss: 1.5148 - accuracy: 0.2500 - val_loss: 1.0648 - val_accuracy: 0.0000e+00\n",
      "Epoch 18/20\n",
      "7/7 [==============================] - 0s 30ms/step - loss: 1.4924 - accuracy: 0.3000 - val_loss: 1.0434 - val_accuracy: 0.0000e+00\n",
      "Epoch 19/20\n",
      "7/7 [==============================] - 0s 30ms/step - loss: 1.3204 - accuracy: 0.4000 - val_loss: 1.0539 - val_accuracy: 0.0000e+00\n",
      "Epoch 20/20\n",
      "7/7 [==============================] - 0s 30ms/step - loss: 1.3839 - accuracy: 0.4000 - val_loss: 1.0208 - val_accuracy: 0.0000e+00\n"
     ]
    }
   ],
   "source": [
    "history = model.fit(\n",
    "    X_train, encoded_y_train,\n",
    "    validation_split=0.1,\n",
    "    batch_size=3,\n",
    "    epochs=20,\n",
    "    callbacks=[early_stopping],\n",
    "    shuffle=False\n",
    ")"
   ]
  },
  {
   "cell_type": "code",
   "execution_count": 56,
   "metadata": {},
   "outputs": [
    {
     "name": "stdout",
     "output_type": "stream",
     "text": [
      "1/1 [==============================] - 0s 26ms/step - loss: 1.1291 - accuracy: 0.3636\n"
     ]
    },
    {
     "data": {
      "text/plain": [
       "[1.1291143894195557, 0.3636363744735718]"
      ]
     },
     "execution_count": 56,
     "metadata": {},
     "output_type": "execute_result"
    }
   ],
   "source": [
    "model.evaluate(X_test, encoded_y_test)"
   ]
  }
 ],
 "metadata": {
  "kernelspec": {
   "display_name": "Python 3.9.6 64-bit",
   "language": "python",
   "name": "python3"
  },
  "language_info": {
   "codemirror_mode": {
    "name": "ipython",
    "version": 3
   },
   "file_extension": ".py",
   "mimetype": "text/x-python",
   "name": "python",
   "nbconvert_exporter": "python",
   "pygments_lexer": "ipython3",
   "version": "3.9.6"
  },
  "orig_nbformat": 4,
  "vscode": {
   "interpreter": {
    "hash": "a2e6baf65b4912df534866df4a24f335b0ddd2a79686966292e6a89b41752c6e"
   }
  }
 },
 "nbformat": 4,
 "nbformat_minor": 2
}
