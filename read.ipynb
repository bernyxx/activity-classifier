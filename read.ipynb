{
 "cells": [
  {
   "cell_type": "code",
   "execution_count": 44,
   "metadata": {},
   "outputs": [],
   "source": [
    "import pandas as pd\n",
    "import matplotlib.pyplot as plt\n",
    "import numpy as np\n",
    "import tensorflow as tf\n",
    "import keras as keras\n",
    "from tensorflow.keras import layers\n",
    "from sklearn.model_selection import train_test_split\n",
    "from sklearn.preprocessing import MinMaxScaler\n",
    "from sklearn.preprocessing import OneHotEncoder"
   ]
  },
  {
   "cell_type": "code",
   "execution_count": 45,
   "metadata": {},
   "outputs": [
    {
     "name": "stdout",
     "output_type": "stream",
     "text": [
      "Dimensione dataset fermo:  (600, 12)\n"
     ]
    }
   ],
   "source": [
    "fermo = pd.read_csv(\"fermo.csv\")\n",
    "\n",
    "fermo.loc[fermo.index < 200, 'activity'] = 'still'\n",
    "fermo.loc[(fermo.index >= 200) & (fermo.index < 400), 'activity'] = 'walking'\n",
    "fermo.loc[(fermo.index >= 400), 'activity'] = 'running'\n",
    "\n",
    "#mov = pd.read_csv(\"mov.csv\")'\n",
    "#mov['activity'] = 'walking'\n",
    "\n",
    "\n",
    "print(\"Dimensione dataset fermo: \", fermo.shape)"
   ]
  },
  {
   "cell_type": "code",
   "execution_count": 59,
   "metadata": {},
   "outputs": [
    {
     "data": {
      "text/html": [
       "<div>\n",
       "<style scoped>\n",
       "    .dataframe tbody tr th:only-of-type {\n",
       "        vertical-align: middle;\n",
       "    }\n",
       "\n",
       "    .dataframe tbody tr th {\n",
       "        vertical-align: top;\n",
       "    }\n",
       "\n",
       "    .dataframe thead th {\n",
       "        text-align: right;\n",
       "    }\n",
       "</style>\n",
       "<table border=\"1\" class=\"dataframe\">\n",
       "  <thead>\n",
       "    <tr style=\"text-align: right;\">\n",
       "      <th></th>\n",
       "      <th>xa</th>\n",
       "      <th>ya</th>\n",
       "      <th>za</th>\n",
       "      <th>xg</th>\n",
       "      <th>yg</th>\n",
       "      <th>zg</th>\n",
       "      <th>xm</th>\n",
       "      <th>ym</th>\n",
       "      <th>zm</th>\n",
       "      <th>temp</th>\n",
       "      <th>hum</th>\n",
       "      <th>running</th>\n",
       "      <th>still</th>\n",
       "      <th>walking</th>\n",
       "    </tr>\n",
       "  </thead>\n",
       "  <tbody>\n",
       "    <tr>\n",
       "      <th>0</th>\n",
       "      <td>0.011</td>\n",
       "      <td>-0.051</td>\n",
       "      <td>0.989</td>\n",
       "      <td>0.122</td>\n",
       "      <td>2.258</td>\n",
       "      <td>-1.770</td>\n",
       "      <td>-10.022</td>\n",
       "      <td>29.797</td>\n",
       "      <td>-31.812</td>\n",
       "      <td>19.720</td>\n",
       "      <td>43.931</td>\n",
       "      <td>0.0</td>\n",
       "      <td>1.0</td>\n",
       "      <td>0.0</td>\n",
       "    </tr>\n",
       "    <tr>\n",
       "      <th>1</th>\n",
       "      <td>0.011</td>\n",
       "      <td>-0.050</td>\n",
       "      <td>0.992</td>\n",
       "      <td>-0.061</td>\n",
       "      <td>2.136</td>\n",
       "      <td>-1.892</td>\n",
       "      <td>-9.363</td>\n",
       "      <td>29.541</td>\n",
       "      <td>-30.554</td>\n",
       "      <td>19.756</td>\n",
       "      <td>43.998</td>\n",
       "      <td>0.0</td>\n",
       "      <td>1.0</td>\n",
       "      <td>0.0</td>\n",
       "    </tr>\n",
       "    <tr>\n",
       "      <th>2</th>\n",
       "      <td>0.011</td>\n",
       "      <td>-0.050</td>\n",
       "      <td>0.993</td>\n",
       "      <td>-0.183</td>\n",
       "      <td>2.258</td>\n",
       "      <td>-1.953</td>\n",
       "      <td>-9.839</td>\n",
       "      <td>29.260</td>\n",
       "      <td>-30.225</td>\n",
       "      <td>19.756</td>\n",
       "      <td>44.036</td>\n",
       "      <td>0.0</td>\n",
       "      <td>1.0</td>\n",
       "      <td>0.0</td>\n",
       "    </tr>\n",
       "    <tr>\n",
       "      <th>3</th>\n",
       "      <td>0.010</td>\n",
       "      <td>-0.050</td>\n",
       "      <td>0.993</td>\n",
       "      <td>-0.122</td>\n",
       "      <td>2.380</td>\n",
       "      <td>-1.770</td>\n",
       "      <td>-9.619</td>\n",
       "      <td>29.468</td>\n",
       "      <td>-28.833</td>\n",
       "      <td>19.774</td>\n",
       "      <td>43.985</td>\n",
       "      <td>0.0</td>\n",
       "      <td>1.0</td>\n",
       "      <td>0.0</td>\n",
       "    </tr>\n",
       "    <tr>\n",
       "      <th>4</th>\n",
       "      <td>0.010</td>\n",
       "      <td>-0.050</td>\n",
       "      <td>0.994</td>\n",
       "      <td>-0.122</td>\n",
       "      <td>2.319</td>\n",
       "      <td>-1.831</td>\n",
       "      <td>-9.827</td>\n",
       "      <td>29.382</td>\n",
       "      <td>-29.382</td>\n",
       "      <td>19.774</td>\n",
       "      <td>44.062</td>\n",
       "      <td>0.0</td>\n",
       "      <td>1.0</td>\n",
       "      <td>0.0</td>\n",
       "    </tr>\n",
       "    <tr>\n",
       "      <th>...</th>\n",
       "      <td>...</td>\n",
       "      <td>...</td>\n",
       "      <td>...</td>\n",
       "      <td>...</td>\n",
       "      <td>...</td>\n",
       "      <td>...</td>\n",
       "      <td>...</td>\n",
       "      <td>...</td>\n",
       "      <td>...</td>\n",
       "      <td>...</td>\n",
       "      <td>...</td>\n",
       "      <td>...</td>\n",
       "      <td>...</td>\n",
       "      <td>...</td>\n",
       "    </tr>\n",
       "    <tr>\n",
       "      <th>595</th>\n",
       "      <td>0.010</td>\n",
       "      <td>-0.050</td>\n",
       "      <td>0.994</td>\n",
       "      <td>0.061</td>\n",
       "      <td>2.380</td>\n",
       "      <td>-1.770</td>\n",
       "      <td>-10.449</td>\n",
       "      <td>29.834</td>\n",
       "      <td>-29.919</td>\n",
       "      <td>19.936</td>\n",
       "      <td>43.462</td>\n",
       "      <td>1.0</td>\n",
       "      <td>0.0</td>\n",
       "      <td>0.0</td>\n",
       "    </tr>\n",
       "    <tr>\n",
       "      <th>596</th>\n",
       "      <td>0.010</td>\n",
       "      <td>-0.049</td>\n",
       "      <td>0.993</td>\n",
       "      <td>-0.061</td>\n",
       "      <td>2.258</td>\n",
       "      <td>-1.892</td>\n",
       "      <td>-9.875</td>\n",
       "      <td>30.322</td>\n",
       "      <td>-30.273</td>\n",
       "      <td>19.936</td>\n",
       "      <td>43.513</td>\n",
       "      <td>1.0</td>\n",
       "      <td>0.0</td>\n",
       "      <td>0.0</td>\n",
       "    </tr>\n",
       "    <tr>\n",
       "      <th>597</th>\n",
       "      <td>0.009</td>\n",
       "      <td>-0.050</td>\n",
       "      <td>0.994</td>\n",
       "      <td>-0.183</td>\n",
       "      <td>2.197</td>\n",
       "      <td>-2.014</td>\n",
       "      <td>-9.460</td>\n",
       "      <td>30.615</td>\n",
       "      <td>-29.761</td>\n",
       "      <td>19.954</td>\n",
       "      <td>43.513</td>\n",
       "      <td>1.0</td>\n",
       "      <td>0.0</td>\n",
       "      <td>0.0</td>\n",
       "    </tr>\n",
       "    <tr>\n",
       "      <th>598</th>\n",
       "      <td>0.010</td>\n",
       "      <td>-0.049</td>\n",
       "      <td>0.994</td>\n",
       "      <td>-0.061</td>\n",
       "      <td>2.258</td>\n",
       "      <td>-1.953</td>\n",
       "      <td>-9.937</td>\n",
       "      <td>29.822</td>\n",
       "      <td>-30.042</td>\n",
       "      <td>19.936</td>\n",
       "      <td>43.484</td>\n",
       "      <td>1.0</td>\n",
       "      <td>0.0</td>\n",
       "      <td>0.0</td>\n",
       "    </tr>\n",
       "    <tr>\n",
       "      <th>599</th>\n",
       "      <td>0.009</td>\n",
       "      <td>-0.050</td>\n",
       "      <td>0.993</td>\n",
       "      <td>-0.366</td>\n",
       "      <td>2.258</td>\n",
       "      <td>-2.014</td>\n",
       "      <td>-9.827</td>\n",
       "      <td>29.651</td>\n",
       "      <td>-29.614</td>\n",
       "      <td>19.954</td>\n",
       "      <td>43.455</td>\n",
       "      <td>1.0</td>\n",
       "      <td>0.0</td>\n",
       "      <td>0.0</td>\n",
       "    </tr>\n",
       "  </tbody>\n",
       "</table>\n",
       "<p>600 rows × 14 columns</p>\n",
       "</div>"
      ],
      "text/plain": [
       "        xa     ya     za     xg     yg     zg      xm      ym      zm    temp  \\\n",
       "0    0.011 -0.051  0.989  0.122  2.258 -1.770 -10.022  29.797 -31.812  19.720   \n",
       "1    0.011 -0.050  0.992 -0.061  2.136 -1.892  -9.363  29.541 -30.554  19.756   \n",
       "2    0.011 -0.050  0.993 -0.183  2.258 -1.953  -9.839  29.260 -30.225  19.756   \n",
       "3    0.010 -0.050  0.993 -0.122  2.380 -1.770  -9.619  29.468 -28.833  19.774   \n",
       "4    0.010 -0.050  0.994 -0.122  2.319 -1.831  -9.827  29.382 -29.382  19.774   \n",
       "..     ...    ...    ...    ...    ...    ...     ...     ...     ...     ...   \n",
       "595  0.010 -0.050  0.994  0.061  2.380 -1.770 -10.449  29.834 -29.919  19.936   \n",
       "596  0.010 -0.049  0.993 -0.061  2.258 -1.892  -9.875  30.322 -30.273  19.936   \n",
       "597  0.009 -0.050  0.994 -0.183  2.197 -2.014  -9.460  30.615 -29.761  19.954   \n",
       "598  0.010 -0.049  0.994 -0.061  2.258 -1.953  -9.937  29.822 -30.042  19.936   \n",
       "599  0.009 -0.050  0.993 -0.366  2.258 -2.014  -9.827  29.651 -29.614  19.954   \n",
       "\n",
       "        hum  running  still  walking  \n",
       "0    43.931      0.0    1.0      0.0  \n",
       "1    43.998      0.0    1.0      0.0  \n",
       "2    44.036      0.0    1.0      0.0  \n",
       "3    43.985      0.0    1.0      0.0  \n",
       "4    44.062      0.0    1.0      0.0  \n",
       "..      ...      ...    ...      ...  \n",
       "595  43.462      1.0    0.0      0.0  \n",
       "596  43.513      1.0    0.0      0.0  \n",
       "597  43.513      1.0    0.0      0.0  \n",
       "598  43.484      1.0    0.0      0.0  \n",
       "599  43.455      1.0    0.0      0.0  \n",
       "\n",
       "[600 rows x 14 columns]"
      ]
     },
     "execution_count": 59,
     "metadata": {},
     "output_type": "execute_result"
    }
   ],
   "source": [
    "enc = OneHotEncoder(sparse_output=False)\n",
    "new_df = pd.DataFrame(enc.fit_transform(fermo['activity'].to_numpy().reshape(-1, 1)), columns=['running', 'still', 'walking'])\n",
    "new_df.index = fermo.index\n",
    "\n",
    "encoded_df = pd.concat([fermo, new_df], axis=1)\n",
    "encoded_df.drop('activity', axis=1, inplace=True)\n",
    "encoded_df\n",
    "\n",
    "\n"
   ]
  },
  {
   "cell_type": "markdown",
   "metadata": {},
   "source": [
    "Test di standardizzazione"
   ]
  },
  {
   "cell_type": "code",
   "execution_count": 85,
   "metadata": {},
   "outputs": [
    {
     "data": {
      "text/plain": [
       "[<matplotlib.lines.Line2D at 0x29070970d60>]"
      ]
     },
     "execution_count": 85,
     "metadata": {},
     "output_type": "execute_result"
    },
    {
     "data": {
      "image/png": "[encoded data removed]",
      "text/plain": [
       "<Figure size 432x288 with 2 Axes>"
      ]
     },
     "metadata": {
      "needs_background": "light"
     },
     "output_type": "display_data"
    }
   ],
   "source": [
    "standardizer = MinMaxScaler()\n",
    "no_outliers = pd.DataFrame(fermo.loc[abs(fermo.xg) < 1, 'xg'])\n",
    "no_outliers\n",
    "y = standardizer.fit_transform(no_outliers)\n",
    "y\n",
    "\n",
    "fig, (ax1, ax2) = plt.subplots(2,1)\n",
    "ax1.plot(np.arange(0, len(y)), no_outliers)\n",
    "ax2.plot(np.arange(0, len(y)), y)"
   ]
  },
  {
   "attachments": {},
   "cell_type": "markdown",
   "metadata": {},
   "source": [
    "# Modello"
   ]
  },
  {
   "cell_type": "code",
   "execution_count": null,
   "metadata": {},
   "outputs": [],
   "source": [
    "model = keras.Sequential([\n",
    "    layers.Dense(units = 256, input_shape=[11], activation='relu'),\n",
    "    layers.Dropout(rate=0.3),\n",
    "    layers.BatchNormalization(),\n",
    "    layers.Dense(units = 256, activation = 'relu'),\n",
    "    layers.Dropout(rate=0.3),\n",
    "    layers.BatchNormalization(),\n",
    "    layers.Dense(units = 256, activation = 'relu'),\n",
    "    layers.Dropout(rate=0.3),\n",
    "    layers.BatchNormalization(),\n",
    "    layers.Dense(units = 3, activation = 'softmax')\n",
    "])"
   ]
  },
  {
   "attachments": {},
   "cell_type": "markdown",
   "metadata": {},
   "source": [
    "Modello - ottimizzatore e funzione di perdita"
   ]
  },
  {
   "cell_type": "code",
   "execution_count": null,
   "metadata": {},
   "outputs": [],
   "source": [
    "model.compile(\n",
    "    optimizer='adam',\n",
    "    loss='categorical_crossentropy',\n",
    "    metrics=['accuracy'],\n",
    ")"
   ]
  },
  {
   "attachments": {},
   "cell_type": "markdown",
   "metadata": {},
   "source": [
    "Early stopping per evitare overfitting"
   ]
  },
  {
   "cell_type": "code",
   "execution_count": null,
   "metadata": {},
   "outputs": [],
   "source": [
    "early_stopping = keras.callbacks.EarlyStopping(\n",
    "    patience=10,\n",
    "    min_delta=0.001,\n",
    "    restore_best_weights=True,\n",
    ")"
   ]
  },
  {
   "cell_type": "code",
   "execution_count": null,
   "metadata": {},
   "outputs": [],
   "source": [
    "history = model.fit(\n",
    "    X_train, y_train,\n",
    "    validation_data=(X_valid, y_valid),\n",
    "    batch_size=512,\n",
    "    epochs=100,\n",
    "    callbacks=[early_stopping],\n",
    ")"
   ]
  }
 ],
 "metadata": {
  "kernelspec": {
   "display_name": "Python 3.9.6 64-bit",
   "language": "python",
   "name": "python3"
  },
  "language_info": {
   "codemirror_mode": {
    "name": "ipython",
    "version": 3
   },
   "file_extension": ".py",
   "mimetype": "text/x-python",
   "name": "python",
   "nbconvert_exporter": "python",
   "pygments_lexer": "ipython3",
   "version": "3.9.6 (tags/v3.9.6:db3ff76, Jun 28 2021, 15:26:21) [MSC v.1929 64 bit (AMD64)]"
  },
  "orig_nbformat": 4,
  "vscode": {
   "interpreter": {
    "hash": "a2e6baf65b4912df534866df4a24f335b0ddd2a79686966292e6a89b41752c6e"
   }
  }
 },
 "nbformat": 4,
 "nbformat_minor": 2
}
